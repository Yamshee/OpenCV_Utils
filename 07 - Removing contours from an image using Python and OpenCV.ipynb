{
 "cells": [
  {
   "cell_type": "raw",
   "metadata": {},
   "source": [
    "Step 1: Detect and find contours in your image.\n",
    "Step 2: Loop over contours individually.\n",
    "Step 3: Determine if the contour is “bad” and should be removed according to some criterion.\n",
    "Step 4: Accumulate a mask of “bad” contours to be removed.\n",
    "Step 5: Apply the accumulated mask of bad contours to the original image using a bitwise ‘and’.\n"
   ]
  },
  {
   "cell_type": "code",
   "execution_count": 6,
   "metadata": {
    "collapsed": true
   },
   "outputs": [],
   "source": [
    "# import the necessary packages\n",
    "import numpy as np\n",
    "import imutils\n",
    "import cv2\n",
    "from PIL import Image\n",
    "from IPython.display import display\n",
    "\n",
    "def is_contour_bad(c):\n",
    "    # approximate the contour\n",
    "    peri = cv2.arcLength(c, True)\n",
    "    approx = cv2.approxPolyDP(c, 0.02 * peri, True)\n",
    " \n",
    "    # the contour is 'bad' if it is not a rectangle\n",
    "    return not len(approx) == 4"
   ]
  },
  {
   "cell_type": "code",
   "execution_count": 9,
   "metadata": {
    "collapsed": false
   },
   "outputs": [
    {
     "data": {
      "image/png": "[encoded data removed]",
      "text/plain": [
       "<PIL.Image.Image image mode=L size=600x400 at 0x7F9FEC160978>"
      ]
     },
     "metadata": {},
     "output_type": "display_data"
    }
   ],
   "source": [
    "image = cv2.imread(r'/mnt/c/Users/yamshee.fatima/Desktop/image & OCR/shapes.png')\n",
    "gray=cv2.cvtColor(image,cv2.COLOR_RGB2GRAY)\n",
    "edged = cv2.Canny(gray, 50, 100)\n",
    "display(Image.fromarray(edged))"
   ]
  },
  {
   "cell_type": "code",
   "execution_count": 19,
   "metadata": {
    "collapsed": false
   },
   "outputs": [],
   "source": [
    "# find contours in the image and initialize the mask that will be used to remove the bad contours\n",
    "cnts = cv2.findContours(edged.copy(), cv2.RETR_LIST, cv2.CHAIN_APPROX_SIMPLE)\n",
    "cnts = imutils.grab_contours(cnts)\n",
    "#back ground -mask\n",
    "mask = np.ones(image.shape[:2], dtype=\"uint8\") * 255\n"
   ]
  },
  {
   "cell_type": "code",
   "execution_count": 22,
   "metadata": {
    "collapsed": false
   },
   "outputs": [
    {
     "data": {
      "image/png": "[encoded data removed]",
      "text/plain": [
       "<PIL.Image.Image image mode=L size=600x400 at 0x7F9FC4076320>"
      ]
     },
     "metadata": {},
     "output_type": "display_data"
    },
    {
     "data": {
      "image/png": "[encoded data removed]",
      "text/plain": [
       "<PIL.Image.Image image mode=RGB size=600x400 at 0x7F9FC4076908>"
      ]
     },
     "metadata": {},
     "output_type": "display_data"
    }
   ],
   "source": [
    "# loop over the contours\n",
    "for c in cnts:\n",
    "    # if the contour is bad, draw it on the mask\n",
    "    if is_contour_bad(c):\n",
    "        cv2.drawContours(mask, [c], -1, 0, -1)\n",
    " \n",
    "# remove the contours from the image and show the resulting images\n",
    "image = cv2.bitwise_and(image, image, mask=mask)\n",
    "display(Image.fromarray(mask))\n",
    "display(Image.fromarray(image))"
   ]
  },
  {
   "cell_type": "code",
   "execution_count": null,
   "metadata": {
    "collapsed": true
   },
   "outputs": [],
   "source": []
  },
  {
   "cell_type": "code",
   "execution_count": null,
   "metadata": {
    "collapsed": true
   },
   "outputs": [],
   "source": []
  }
 ],
 "metadata": {
  "anaconda-cloud": {},
  "kernelspec": {
   "display_name": "Python [conda root]",
   "language": "python",
   "name": "conda-root-py"
  },
  "language_info": {
   "codemirror_mode": {
    "name": "ipython",
    "version": 3
   },
   "file_extension": ".py",
   "mimetype": "text/x-python",
   "name": "python",
   "nbconvert_exporter": "python",
   "pygments_lexer": "ipython3",
   "version": "3.5.2"
  }
 },
 "nbformat": 4,
 "nbformat_minor": 1
}
