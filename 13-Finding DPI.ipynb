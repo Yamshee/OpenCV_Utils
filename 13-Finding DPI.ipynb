{
 "cells": [
  {
   "cell_type": "code",
   "execution_count": 7,
   "metadata": {},
   "outputs": [
    {
     "name": "stdout",
     "output_type": "stream",
     "text": [
      "im dpi?\n"
     ]
    }
   ],
   "source": [
    "from PIL import Image\n",
    "im = Image.open(r'/mnt/c/Users/yamshee.fatima/Desktop/image & OCR/parking.png')\n",
    "print(\"im dpi?\")"
   ]
  },
  {
   "cell_type": "code",
   "execution_count": 8,
   "metadata": {},
   "outputs": [
    {
     "name": "stdout",
     "output_type": "stream",
     "text": [
      "(72, 72)\n"
     ]
    }
   ],
   "source": [
    "print(im.info['dpi'])"
   ]
  },
  {
   "cell_type": "code",
   "execution_count": 9,
   "metadata": {},
   "outputs": [
    {
     "data": {
      "text/plain": [
       "{'Camera': 'Camera',\n",
       " 'Date': '2016/09/18 20:59:35',\n",
       " 'File': '/home/gnss/mlSoftware/blender-2.76b/data/generator2/generator/ParkingLot.blend',\n",
       " 'Frame': '001',\n",
       " 'RenderTime': '01:30.85',\n",
       " 'Scene': 'Scene',\n",
       " 'Time': '00:00:00:01',\n",
       " 'dpi': (72, 72)}"
      ]
     },
     "execution_count": 9,
     "metadata": {},
     "output_type": "execute_result"
    }
   ],
   "source": [
    "im.info"
   ]
  },
  {
   "cell_type": "code",
   "execution_count": null,
   "metadata": {
    "collapsed": true
   },
   "outputs": [],
   "source": []
  }
 ],
 "metadata": {
  "anaconda-cloud": {},
  "kernelspec": {
   "display_name": "Python [conda root]",
   "language": "python",
   "name": "conda-root-py"
  },
  "language_info": {
   "codemirror_mode": {
    "name": "ipython",
    "version": 3
   },
   "file_extension": ".py",
   "mimetype": "text/x-python",
   "name": "python",
   "nbconvert_exporter": "python",
   "pygments_lexer": "ipython3",
   "version": "3.5.2"
  }
 },
 "nbformat": 4,
 "nbformat_minor": 1
}
