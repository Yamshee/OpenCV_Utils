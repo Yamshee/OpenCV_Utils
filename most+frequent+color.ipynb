{
 "cells": [
  {
   "cell_type": "code",
   "execution_count": 3,
   "metadata": {
    "collapsed": false
   },
   "outputs": [],
   "source": [
    "\n",
    "a='{\"objects\":[{\"bbox\":[123,662,2308,2804],\"label\":0,\"prob\":0.595},{\"bbox\":[237,895,1437,2738],\"label\":0,\"prob\":0.5545},{\"bbox\":[158,534,2186,1050],\"label\":0,\"prob\":0.3244},{\"bbox\":[310,1512,2151,2858],\"label\":0,\"prob\":0.1664},{\"bbox\":[306,783,2188,1851],\"label\":0,\"prob\":0.1482},{\"bbox\":[291,1282,1027,2758],\"label\":0,\"prob\":0.0825},{\"bbox\":[253,2109,2213,2766],\"label\":0,\"prob\":0.0612},{\"bbox\":[171,754,2193,1311],\"label\":0,\"prob\":0.0458},{\"bbox\":[482,901,2222,1103],\"label\":0,\"prob\":0.0445},{\"bbox\":[272,1930,1299,2742],\"label\":0,\"prob\":0.0388},{\"bbox\":[253,504,1042,1097],\"label\":0,\"prob\":0.0327},{\"bbox\":[1342,803,2279,2831],\"label\":0,\"prob\":0.0269},{\"bbox\":[345,984,2283,1501],\"label\":0,\"prob\":0.0257},{\"bbox\":[508,1008,2287,1269],\"label\":0,\"prob\":0.0243},{\"bbox\":[189,2323,1443,2683],\"label\":0,\"prob\":0.0202},{\"bbox\":[236,576,1441,934],\"label\":0,\"prob\":0.0149},{\"bbox\":[1133,884,2284,1936],\"label\":0,\"prob\":0.0148},{\"bbox\":[481,572,680,952],\"label\":0,\"prob\":0.0133},{\"bbox\":[208,707,1881,973],\"label\":0,\"prob\":0.0118}]}'"
   ]
  },
  {
   "cell_type": "code",
   "execution_count": 4,
   "metadata": {
    "collapsed": false
   },
   "outputs": [
    {
     "data": {
      "text/plain": [
       "'{\"objects\":[{\"bbox\":[123,662,2308,2804],\"label\":0,\"prob\":0.595},{\"bbox\":[237,895,1437,2738],\"label\":0,\"prob\":0.5545},{\"bbox\":[158,534,2186,1050],\"label\":0,\"prob\":0.3244},{\"bbox\":[310,1512,2151,2858],\"label\":0,\"prob\":0.1664},{\"bbox\":[306,783,2188,1851],\"label\":0,\"prob\":0.1482},{\"bbox\":[291,1282,1027,2758],\"label\":0,\"prob\":0.0825},{\"bbox\":[253,2109,2213,2766],\"label\":0,\"prob\":0.0612},{\"bbox\":[171,754,2193,1311],\"label\":0,\"prob\":0.0458},{\"bbox\":[482,901,2222,1103],\"label\":0,\"prob\":0.0445},{\"bbox\":[272,1930,1299,2742],\"label\":0,\"prob\":0.0388},{\"bbox\":[253,504,1042,1097],\"label\":0,\"prob\":0.0327},{\"bbox\":[1342,803,2279,2831],\"label\":0,\"prob\":0.0269},{\"bbox\":[345,984,2283,1501],\"label\":0,\"prob\":0.0257},{\"bbox\":[508,1008,2287,1269],\"label\":0,\"prob\":0.0243},{\"bbox\":[189,2323,1443,2683],\"label\":0,\"prob\":0.0202},{\"bbox\":[236,576,1441,934],\"label\":0,\"prob\":0.0149},{\"bbox\":[1133,884,2284,1936],\"label\":0,\"prob\":0.0148},{\"bbox\":[481,572,680,952],\"label\":0,\"prob\":0.0133},{\"bbox\":[208,707,1881,973],\"label\":0,\"prob\":0.0118}]}'"
      ]
     },
     "execution_count": 4,
     "metadata": {},
     "output_type": "execute_result"
    }
   ],
   "source": [
    "a"
   ]
  },
  {
   "cell_type": "code",
   "execution_count": 14,
   "metadata": {
    "collapsed": false
   },
   "outputs": [],
   "source": [
    "import cv2\n",
    "import numpy as np\n",
    "imgg=cv2.imread(r'/mnt/d/djangoProjectImage/mysite/media/processImage/template3aa_2019-08-16_17-03-56/Auto-Color2354-29.jpg')\n",
    "\n",
    "# Convert BGR to HSV\n",
    "hsv = cv2.cvtColor(imgg, cv2.COLOR_BGR2HSV)\n",
    "\n",
    "# define range of black color in HSV\n",
    "lower_val = np.array([0,0,0])\n",
    "upper_val = np.array([160,255,127])\n",
    "\n",
    "# Threshold the HSV image to get only black colors\n",
    "mask = cv2.inRange(hsv, lower_val, upper_val)\n",
    "\n",
    "# invert mask to get black symbols on white background\n",
    "mask_inv = cv2.bitwise_not(mask)\n"
   ]
  },
  {
   "cell_type": "code",
   "execution_count": 15,
   "metadata": {
    "collapsed": false
   },
   "outputs": [
    {
     "data": {
      "text/plain": [
       "True"
      ]
     },
     "execution_count": 15,
     "metadata": {},
     "output_type": "execute_result"
    }
   ],
   "source": [
    "cv2.imwrite('/mnt/d/mask_inv.jpg',mask_inv)"
   ]
  },
  {
   "cell_type": "code",
   "execution_count": 17,
   "metadata": {
    "collapsed": false
   },
   "outputs": [],
   "source": [
    "import numpy as np\n",
    "from PIL import Image\n",
    "\n",
    "im = Image.open(r'/mnt/d/djangoProjectImage/mysite/media/processImage/template3aa_2019-08-16_17-03-56/Auto-Color2354-29.jpg')\n",
    "im = im.convert('RGBA')\n",
    "data = np.array(im)\n",
    "# just use the rgb values for comparison\n",
    "rgb = data[:,:,:3]\n",
    "color = [246, 213, 139]   # Original value\n",
    "black = [0,0,0, 255]\n",
    "white = [255,255,255,255]\n",
    "mask = np.all(rgb == color, axis = -1)\n",
    "# change all pixels that match color to white\n",
    "data[mask] = white\n",
    "\n",
    "# change all pixels that don't match color to black\n",
    "##data[np.logical_not(mask)] = black\n",
    "new_im = Image.fromarray(data)\n",
    "new_im.save('new_file.tif')"
   ]
  },
  {
   "cell_type": "code",
   "execution_count": 5,
   "metadata": {
    "collapsed": false
   },
   "outputs": [
    {
     "name": "stdout",
     "output_type": "stream",
     "text": [
      "reading image\n",
      "finding clusters\n",
      "cluster centres:\n",
      " [[148.87068966 150.96264368 165.64655172]\n",
      " [230.88888889 231.64509169 236.60517799]\n",
      " [ 39.50526316  39.33684211  40.91929825]\n",
      " [254.55162369 254.58763133 254.67898758]]\n",
      "most frequent is [254.55162369 254.58763133 254.67898758] (#fefefe)\n"
     ]
    }
   ],
   "source": [
    "from __future__ import print_function\n",
    "import binascii\n",
    "import struct\n",
    "from PIL import Image\n",
    "import numpy as np\n",
    "import scipy\n",
    "import scipy.misc\n",
    "import scipy.cluster\n",
    "from IPython.display import display\n",
    "NUM_CLUSTERS = 5\n",
    "\n",
    "print('reading image')\n",
    "im = Image.open(r'/mnt/d/djangoProjectImage/mysite/media/processImage/template3aa_2019-08-16_17-03-56/Auto-Color2354-29.jpg')\n",
    "\n",
    "\n",
    "#im = Image.open('image.jpg')\n",
    "im = im.resize((150, 150))      # optional, to reduce time\n",
    "ar = np.asarray(im)\n",
    "shape = ar.shape\n",
    "ar = ar.reshape(scipy.product(shape[:2]), shape[2]).astype(float)\n",
    "\n",
    "print('finding clusters')\n",
    "codes, dist = scipy.cluster.vq.kmeans(ar, NUM_CLUSTERS)\n",
    "print('cluster centres:\\n', codes)\n",
    "\n",
    "vecs, dist = scipy.cluster.vq.vq(ar, codes)         # assign codes\n",
    "counts, bins = scipy.histogram(vecs, len(codes))    # count occurrences\n",
    "\n",
    "index_max = scipy.argmax(counts)                    # find most frequent\n",
    "peak = codes[index_max]\n",
    "colour = binascii.hexlify(bytearray(int(c) for c in peak)).decode('ascii')\n",
    "print('most frequent is %s (#%s)' % (peak, colour))\n",
    "#Image.fromarray(im)"
   ]
  },
  {
   "cell_type": "code",
   "execution_count": 20,
   "metadata": {
    "collapsed": true
   },
   "outputs": [],
   "source": [
    "im = Image.open(r'/mnt/d/djangoProjectImage/mysite/media/processImage/template3aa_2019-08-16_17-03-56/Auto-Color2354-29.jpg')\n",
    "\n",
    "im.getcolors()"
   ]
  },
  {
   "cell_type": "code",
   "execution_count": 21,
   "metadata": {
    "collapsed": false
   },
   "outputs": [
    {
     "name": "stdout",
     "output_type": "stream",
     "text": [
      "Collecting colorthief\n",
      "  Downloading https://files.pythonhosted.org/packages/56/18/be03b7058e65f9df479b14e7af4e73945ce311e07aaad45cf2536e14791a/colorthief-0.2.1-py2.py3-none-any.whl\n",
      "Requirement already satisfied: Pillow in ./anaconda3/lib/python3.5/site-packages (from colorthief) (3.3.1)\n",
      "Installing collected packages: colorthief\n",
      "Successfully installed colorthief-0.2.1\n"
     ]
    }
   ],
   "source": [
    "!pip install colorthief"
   ]
  },
  {
   "cell_type": "code",
   "execution_count": 3,
   "metadata": {
    "collapsed": false
   },
   "outputs": [],
   "source": [
    "from colorthief import ColorThief\n",
    "color_thief = ColorThief(r'/mnt/d/djangoProjectImage/mysite/media/processImage/template3aa_2019-08-16_17-03-56/Auto-Color2354-29.jpg')\n",
    "# get the dominant color\n",
    "dominant_color = color_thief.get_color(quality=1)"
   ]
  },
  {
   "cell_type": "code",
   "execution_count": 4,
   "metadata": {
    "collapsed": false
   },
   "outputs": [
    {
     "data": {
      "text/plain": [
       "(237, 237, 241)"
      ]
     },
     "execution_count": 4,
     "metadata": {},
     "output_type": "execute_result"
    }
   ],
   "source": [
    "dominant_color"
   ]
  },
  {
   "cell_type": "code",
   "execution_count": null,
   "metadata": {
    "collapsed": true
   },
   "outputs": [],
   "source": []
  }
 ],
 "metadata": {
  "anaconda-cloud": {},
  "kernelspec": {
   "display_name": "Python [conda root]",
   "language": "python",
   "name": "conda-root-py"
  },
  "language_info": {
   "codemirror_mode": {
    "name": "ipython",
    "version": 3
   },
   "file_extension": ".py",
   "mimetype": "text/x-python",
   "name": "python",
   "nbconvert_exporter": "python",
   "pygments_lexer": "ipython3",
   "version": "3.5.2"
  }
 },
 "nbformat": 4,
 "nbformat_minor": 1
}
