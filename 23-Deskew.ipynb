{
 "cells": [
  {
   "cell_type": "code",
   "execution_count": 2,
   "metadata": {
    "collapsed": false
   },
   "outputs": [],
   "source": [
    "import cv2\n",
    "import numpy as np\n",
    "from matplotlib import pyplot as plt\n",
    "\n",
    "img = cv2.imread('/mnt/d/image.png', cv2.IMREAD_GRAYSCALE)\n",
    "\n",
    "def compute_skew(image):\n",
    "    image = cv2.bitwise_not(image)\n",
    "    height, width = image.shape\n",
    "\n",
    "    edges = cv2.Canny(image, 150, 200, 3, 5)\n",
    "    lines = cv2.HoughLinesP(edges, 1, np.pi/180, 100, minLineLength=width / 2.0, maxLineGap=20)\n",
    "    angle = 0.0\n",
    "    nlines = lines.size\n",
    "    for x1, y1, x2, y2 in lines[0]:\n",
    "        angle += np.arctan2(y2 - y1, x2 - x1)\n",
    "    return angle / nlines\n",
    "\n",
    "\n",
    "def deskew(image, angle):\n",
    "    image = cv2.bitwise_not(image)\n",
    "    non_zero_pixels = cv2.findNonZero(image)\n",
    "    center, wh, theta = cv2.minAreaRect(non_zero_pixels)\n",
    "\n",
    "    root_mat = cv2.getRotationMatrix2D(center, angle, 1)\n",
    "    rows, cols = image.shape\n",
    "    rotated = cv2.warpAffine(image, root_mat, (cols, rows), flags=cv2.INTER_CUBIC)\n",
    "    cv2.imwrite('/mnt/d/rotated.jpg',rotated)\n",
    "    return cv2.getRectSubPix(rotated, (cols, rows), center)\n",
    "\n",
    "\n",
    "deskewed_image = deskew(img.copy(), compute_skew(img))"
   ]
  },
  {
   "cell_type": "code",
   "execution_count": 3,
   "metadata": {
    "collapsed": false
   },
   "outputs": [
    {
     "data": {
      "text/plain": [
       "'4.0.0'"
      ]
     },
     "execution_count": 3,
     "metadata": {},
     "output_type": "execute_result"
    }
   ],
   "source": [
    "cv2.__version__"
   ]
  },
  {
   "cell_type": "code",
   "execution_count": 13,
   "metadata": {
    "collapsed": false
   },
   "outputs": [
    {
     "data": {
      "text/plain": [
       "True"
      ]
     },
     "execution_count": 13,
     "metadata": {},
     "output_type": "execute_result"
    }
   ],
   "source": [
    "cv2.imwrite('/mnt/d/s.jpg',deskewed_image)"
   ]
  },
  {
   "cell_type": "code",
   "execution_count": 12,
   "metadata": {
    "collapsed": true
   },
   "outputs": [],
   "source": [
    "def compute_skew(image):\n",
    "    # image = cv2.bitwise_not(image)\n",
    "    height, width = image.shape\n",
    "\n",
    "    edges = cv2.Canny(image, 150, 200, 3, 5)\n",
    "    lines = cv2.HoughLinesP(edges, 1, np.pi / 180, 100, minLineLength=width / 2.0, maxLineGap=20)\n",
    "    angle = 0.0\n",
    "    number_of_line = lines.size\n",
    "    for x1, y1, x2, y2 in lines[0]:\n",
    "        if x1 != x2:\n",
    "            angle += np.arctan(y2 - y1 / x2 - x1)\n",
    "    print(angle , number_of_line)\n",
    "    return angle / number_of_line\n",
    "\n",
    "\n",
    "def deskew(image, angle):\n",
    "    angle = np.math.degrees(angle)\n",
    "    print(angle)\n",
    "    # image = cv2.bitwise_not(image)\n",
    "    non_zero_pixels = cv2.findNonZero(image)\n",
    "    center, wh, theta = cv2.minAreaRect(non_zero_pixels)\n",
    "\n",
    "    root_mat = cv2.getRotationMatrix2D(center, angle, 1)\n",
    "    rows, cols = image.shape\n",
    "    rotated = cv2.warpAffine(image, root_mat, (cols, rows), flags=cv2.INTER_CUBIC)\n",
    "\n",
    "    return cv2.getRectSubPix(rotated, (cols, rows), center)"
   ]
  },
  {
   "cell_type": "code",
   "execution_count": 13,
   "metadata": {
    "collapsed": false
   },
   "outputs": [
    {
     "name": "stdout",
     "output_type": "stream",
     "text": [
      "1.5702509284135058 48\n",
      "1.8743489786373548\n"
     ]
    }
   ],
   "source": [
    "deskewed_image = deskew(img.copy(), compute_skew(img))"
   ]
  },
  {
   "cell_type": "code",
   "execution_count": 30,
   "metadata": {
    "collapsed": false
   },
   "outputs": [],
   "source": []
  },
  {
   "cell_type": "code",
   "execution_count": 31,
   "metadata": {
    "collapsed": false
   },
   "outputs": [
    {
     "data": {
      "text/plain": [
       "array([[255, 255, 255, ..., 255, 255, 255],\n",
       "       [255, 255, 255, ..., 255, 255, 255],\n",
       "       [255, 255, 255, ..., 255, 255, 255],\n",
       "       ...,\n",
       "       [255, 255, 255, ..., 255, 255, 255],\n",
       "       [255, 255, 255, ..., 255, 255, 255],\n",
       "       [255, 255, 255, ..., 255, 255, 255]], dtype=uint8)"
      ]
     },
     "execution_count": 31,
     "metadata": {},
     "output_type": "execute_result"
    }
   ],
   "source": [
    "img"
   ]
  },
  {
   "cell_type": "code",
   "execution_count": 16,
   "metadata": {
    "collapsed": false
   },
   "outputs": [
    {
     "name": "stdout",
     "output_type": "stream",
     "text": [
      "1.5702509284135058 48\n"
     ]
    },
    {
     "data": {
      "text/plain": [
       "0.0327135610086147"
      ]
     },
     "execution_count": 16,
     "metadata": {},
     "output_type": "execute_result"
    }
   ],
   "source": [
    "compute_skew(img)"
   ]
  },
  {
   "cell_type": "code",
   "execution_count": 19,
   "metadata": {
    "collapsed": false
   },
   "outputs": [
    {
     "name": "stdout",
     "output_type": "stream",
     "text": [
      "1.8743489786373548\n"
     ]
    },
    {
     "data": {
      "text/plain": [
       "True"
      ]
     },
     "execution_count": 19,
     "metadata": {},
     "output_type": "execute_result"
    }
   ],
   "source": [
    "cv2.imwrite('/mnt/d/DjangoProjectImage/mysite/rota.jpg',deskew(img, 0.0327135610086147))"
   ]
  },
  {
   "cell_type": "code",
   "execution_count": 32,
   "metadata": {
    "collapsed": false
   },
   "outputs": [],
   "source": [
    "def deskew(image):\n",
    "    # load the image from disk\n",
    "    cv2.imwrite('Originalimage.jpg', image)\n",
    "    # convert the image to grayscale and flip the foreground and background to ensure foreground is now \"white\" and the background is \"black\"\n",
    "    #gray = cv2.cvtColor(image, cv2.COLOR_BGR2GRAY)\n",
    "    gray = cv2.bitwise_not(image)\n",
    "\n",
    "    # threshold the image, setting all foreground pixels to 255 and all background pixels to 0\n",
    "    thresh = cv2.threshold(gray, 0, 255,cv2.THRESH_BINARY | cv2.THRESH_OTSU)[1]\n",
    "    # grab the (x, y) coordinates of all pixel values that are greater than zero, then use these coordinates to\n",
    "    # compute a rotated bounding box that contains all coordinates\n",
    "    coords = np.column_stack(np.where(thresh > 0))\n",
    "    angle = cv2.minAreaRect(coords)[-1]\n",
    "    print(angle)\n",
    "    # the `cv2.minAreaRect` function returns values in the  range [-90, 0); as the rectangle rotates clockwise the\n",
    "    # returned angle trends to 0 -- in this special case we need to add 90 degrees to the angle\n",
    "    if angle < -45:\n",
    "        angle = -(90 + angle)\n",
    "\n",
    "    # otherwise, just take the inverse of the angle to make it positive\n",
    "    else:\n",
    "        angle = -angle\n",
    "\n",
    "    # rotate the image to deskew it\n",
    "    (h, w) = image.shape[:2]\n",
    "    center = (w // 2, h // 2)\n",
    "    M = cv2.getRotationMatrix2D(center, angle, 1.0)\n",
    "    rotated = cv2.warpAffine(image, M, (w, h), flags=cv2.INTER_CUBIC, borderMode=cv2.BORDER_REPLICATE)\n",
    "    # draw the correction angle on the image so we can validate it\n",
    "    # cv2.putText(rotated, \"Angle: {:.2f} degrees\".format(angle),(10, 30), cv2.FONT_HERSHEY_SIMPLEX, 0.7, (0, 0, 255), 2)\n",
    "\n",
    "    # show the output image\n",
    "    print(\"[INFO] angle: {:.3f}\".format(angle))\n",
    "    cv2.imwrite('/mnt/d/DjangoProjectImage/mysite/rotated1.jpg', rotated)\n",
    "    return rotated\n"
   ]
  },
  {
   "cell_type": "code",
   "execution_count": 34,
   "metadata": {
    "collapsed": false
   },
   "outputs": [
    {
     "name": "stdout",
     "output_type": "stream",
     "text": [
      "0.0\n",
      "[INFO] angle: -0.000\n"
     ]
    },
    {
     "data": {
      "text/plain": [
       "array([[255, 255, 255, ..., 255, 255, 255],\n",
       "       [255, 255, 255, ..., 255, 255, 255],\n",
       "       [255, 255, 255, ..., 255, 255, 255],\n",
       "       ...,\n",
       "       [255, 255, 255, ..., 255, 255, 255],\n",
       "       [255, 255, 255, ..., 255, 255, 255],\n",
       "       [255, 255, 255, ..., 255, 255, 255]], dtype=uint8)"
      ]
     },
     "execution_count": 34,
     "metadata": {},
     "output_type": "execute_result"
    }
   ],
   "source": [
    "img=cv2.imread('/mnt/d/DjangoProjectImage/mysite/rotated.jpg',0)\n",
    "deskew(img)"
   ]
  },
  {
   "cell_type": "code",
   "execution_count": null,
   "metadata": {
    "collapsed": false
   },
   "outputs": [],
   "source": []
  },
  {
   "cell_type": "code",
   "execution_count": null,
   "metadata": {
    "collapsed": false
   },
   "outputs": [],
   "source": []
  },
  {
   "cell_type": "code",
   "execution_count": 62,
   "metadata": {
    "collapsed": true
   },
   "outputs": [],
   "source": [
    "def deskew(im, max_skew=10):\n",
    "    height, width,_ = im.shape\n",
    "    im_gs = cv2.cvtColor(im, cv2.COLOR_BGR2GRAY)\n",
    "    im_gs = cv2.fastNlMeansDenoising(im_gs, h=3)\n",
    "    im_bw = cv2.threshold(im_gs, 0, 255, cv2.THRESH_BINARY_INV | cv2.THRESH_OTSU)[1]\n",
    "    lines = cv2.HoughLinesP(im_bw, 1, np.pi / 180, 200, minLineLength=width / 12, maxLineGap=width / 150)\n",
    "    angles = []\n",
    "    for line in lines:\n",
    "        x1, y1, x2, y2 = line[0]\n",
    "        angles.append(np.arctan2(y2 - y1, x2 - x1))\n",
    "    landscape = np.sum([abs(angle) > np.pi / 4 for angle in angles]) > len(angles) / 2\n",
    "    if landscape:\n",
    "        angles = [\n",
    "            angle\n",
    "            for angle in angles\n",
    "            if np.deg2rad(90 - max_skew) < abs(angle) < np.deg2rad(90 + max_skew)\n",
    "        ]\n",
    "    else:\n",
    "        angles = [angle for angle in angles if abs(angle) < np.deg2rad(max_skew)]\n",
    "    if len(angles) < 5:\n",
    "        return im\n",
    "    angle_deg = np.rad2deg(np.median(angles))\n",
    "    if landscape:\n",
    "        if angle_deg < 0:\n",
    "            im = cv2.rotate(im, cv2.ROTATE_90_CLOCKWISE)\n",
    "            angle_deg += 90\n",
    "        elif angle_deg > 0:\n",
    "            im = cv2.rotate(im, cv2.ROTATE_90_COUNTERCLOCKWISE)\n",
    "            angle_deg -= 90\n",
    "    M = cv2.getRotationMatrix2D((width / 2, height / 2), angle_deg, 1)\n",
    "    im = cv2.warpAffine(im, M, (width, height), borderMode=cv2.BORDER_REPLICATE)\n",
    "    cv2.imwrite('/mnt/d/imageqq.png',im)\n",
    "    return im\n"
   ]
  },
  {
   "cell_type": "code",
   "execution_count": 63,
   "metadata": {
    "collapsed": false
   },
   "outputs": [
    {
     "data": {
      "text/plain": [
       "array([[[ 80,  80,  80],\n",
       "        [ 80,  80,  80],\n",
       "        [ 80,  80,  80],\n",
       "        ...,\n",
       "        [230, 230, 230],\n",
       "        [230, 230, 230],\n",
       "        [230, 230, 230]],\n",
       "\n",
       "       [[ 80,  80,  80],\n",
       "        [ 80,  80,  80],\n",
       "        [ 80,  80,  80],\n",
       "        ...,\n",
       "        [230, 230, 230],\n",
       "        [230, 230, 230],\n",
       "        [230, 230, 230]],\n",
       "\n",
       "       [[ 80,  80,  80],\n",
       "        [ 80,  80,  80],\n",
       "        [ 80,  80,  80],\n",
       "        ...,\n",
       "        [230, 230, 230],\n",
       "        [230, 230, 230],\n",
       "        [230, 230, 230]],\n",
       "\n",
       "       ...,\n",
       "\n",
       "       [[255, 255, 255],\n",
       "        [255, 255, 255],\n",
       "        [255, 255, 255],\n",
       "        ...,\n",
       "        [215, 131,  24],\n",
       "        [214, 164, 101],\n",
       "        [215, 215, 215]],\n",
       "\n",
       "       [[255, 255, 255],\n",
       "        [255, 255, 255],\n",
       "        [255, 255, 255],\n",
       "        ...,\n",
       "        [215, 131,  24],\n",
       "        [214, 162,  95],\n",
       "        [215, 215, 215]],\n",
       "\n",
       "       [[255, 255, 255],\n",
       "        [255, 255, 255],\n",
       "        [255, 255, 255],\n",
       "        ...,\n",
       "        [215, 131,  24],\n",
       "        [214, 162,  95],\n",
       "        [215, 215, 215]]], dtype=uint8)"
      ]
     },
     "execution_count": 63,
     "metadata": {},
     "output_type": "execute_result"
    }
   ],
   "source": [
    "deskew(cv2.imread('/mnt/d/text-image-python/Al-Rawabi/AlRawabi/2019/10/10/Precisio/Input/'))\n"
   ]
  },
  {
   "cell_type": "code",
   "execution_count": null,
   "metadata": {
    "collapsed": true
   },
   "outputs": [],
   "source": [
    "# load the image from disk\n",
    "#image = cv2.imread(imgpath)\n",
    "# convert the image to grayscale and flip the foreground and background to ensure foreground is now \"white\" and the background is \"black\"\n",
    "#gray = cv2.cvtColor(image, cv2.COLOR_BGR2GRAY)\n",
    "gray = cv2.bitwise_not(image)\n",
    "\n",
    "# threshold the image, setting all foreground pixels to 255 and all background pixels to 0\n",
    "thresh = cv2.threshold(gray, 0, 255,cv2.THRESH_BINARY | cv2.THRESH_OTSU)[1]\n",
    "# grab the (x, y) coordinates of all pixel values that are greater than zero, then use these coordinates to\n",
    "# compute a rotated bounding box that contains all coordinates\n",
    "coords = np.column_stack(np.where(thresh > 0))\n",
    "angle = cv2.minAreaRect(coords)[-1]\n",
    "\n",
    "# the `cv2.minAreaRect` function returns values in the  range [-90, 0); as the rectangle rotates clockwise the\n",
    "# returned angle trends to 0 -- in this special case we need to add 90 degrees to the angle\n",
    "if angle < -45:\n",
    "    angle = -(90 + angle)\n",
    "\n",
    "# otherwise, just take the inverse of the angle to make it positive\n",
    "else:\n",
    "    angle = -angle\n",
    "\n",
    "# rotate the image to deskew it\n",
    "(h, w) = image.shape[:2]\n",
    "center = (w // 2, h // 2)\n",
    "M = cv2.getRotationMatrix2D(center, angle, 1.0)\n",
    "rotated = cv2.warpAffine(image, M, (w, h),flags=cv2.INTER_CUBIC, borderMode=cv2.BORDER_REPLICATE)\n",
    "# draw the correction angle on the image so we can validate it\n",
    "# cv2.putText(rotated, \"Angle: {:.2f} degrees\".format(angle),(10, 30), cv2.FONT_HERSHEY_SIMPLEX, 0.7, (0, 0, 255), 2)\n",
    "\n",
    "# show the output image\n",
    "print(\"[INFO] angle: {:.3f}\".format(angle))\n",
    "cv2.imwrite('rotated.jpg',rotated)\n",
    "return rotated\n"
   ]
  }
 ],
 "metadata": {
  "anaconda-cloud": {},
  "kernelspec": {
   "display_name": "Python [conda root]",
   "language": "python",
   "name": "conda-root-py"
  },
  "language_info": {
   "codemirror_mode": {
    "name": "ipython",
    "version": 3
   },
   "file_extension": ".py",
   "mimetype": "text/x-python",
   "name": "python",
   "nbconvert_exporter": "python",
   "pygments_lexer": "ipython3",
   "version": "3.5.2"
  }
 },
 "nbformat": 4,
 "nbformat_minor": 1
}
